{
 "cells": [
  {
   "attachments": {},
   "cell_type": "markdown",
   "metadata": {},
   "source": [
    "### Exercise #1 <br>\n",
    "<p>Reverse the list below in-place using an in-place algorithm.<br>For extra credit: Reverse the strings at the same time.</p>"
   ]
  },
  {
   "cell_type": "code",
   "execution_count": 28,
   "metadata": {},
   "outputs": [
    {
     "name": "stdout",
     "output_type": "stream",
     "text": [
      "['.', 'sentence', 'a', 'is', 'this']\n"
     ]
    }
   ],
   "source": [
    "words = ['this' , 'is', 'a', 'sentence', '.']\n",
    "\n",
    "def swap_down(a_list):\n",
    "    for word in a_list:\n",
    "        word = list(word).reverse()\n",
    "    left = 0\n",
    "    right = len(a_list) - 1\n",
    "    while left < right:\n",
    "        a_list[left], a_list[right] = a_list[right], a_list[left]\n",
    "        left += 1\n",
    "        right -= 1\n",
    "    return a_list\n",
    "\n",
    "print(swap_down(words))"
   ]
  },
  {
   "attachments": {},
   "cell_type": "markdown",
   "metadata": {},
   "source": [
    "### Exercise #2 <br>\n",
    "<p>Create a function that counts how many distinct words are in the string below, then outputs a dictionary with the words as the key and the value as the amount of times that word appears in the string.</p>\n",
    "Example Output:<code>{'in': 1, 'computing': 1, 'a': 5, ...}</code>"
   ]
  },
  {
   "cell_type": "code",
   "execution_count": 15,
   "metadata": {},
   "outputs": [
    {
     "data": {
      "text/plain": [
       "{'In': 1,\n",
       " 'computing': 1,\n",
       " 'a': 5,\n",
       " 'hash': 4,\n",
       " 'table': 2,\n",
       " 'map': 2,\n",
       " 'is': 1,\n",
       " 'data': 2,\n",
       " 'structure': 2,\n",
       " 'which': 2,\n",
       " 'implements': 1,\n",
       " 'an': 3,\n",
       " 'associative': 1,\n",
       " 'array': 2,\n",
       " 'abstract': 1,\n",
       " 'type': 1,\n",
       " 'that': 1,\n",
       " 'can': 2,\n",
       " 'keys': 1,\n",
       " 'to': 2,\n",
       " 'values': 1,\n",
       " 'uses': 1,\n",
       " 'function': 1,\n",
       " 'compute': 1,\n",
       " 'index': 1,\n",
       " 'into': 1,\n",
       " 'of': 1,\n",
       " 'buckets': 1,\n",
       " 'or': 1,\n",
       " 'slots': 1,\n",
       " 'from': 1,\n",
       " 'the': 1,\n",
       " 'desired': 1,\n",
       " 'value': 1,\n",
       " 'be': 1,\n",
       " 'found': 1}"
      ]
     },
     "execution_count": 15,
     "metadata": {},
     "output_type": "execute_result"
    }
   ],
   "source": [
    "a_text = 'In computing, a hash table hash map is a data structure which implements an associative array abstract data type, a structure that can map keys to values. A hash table uses a hash function to compute an index into an array of buckets or slots from which the desired value can be found'\n",
    "import re\n",
    "#take in the string, run through regex for boundaries\n",
    "#Add new words to the dictionary\n",
    "#Words in their dictionary have their number increased by one\n",
    "\n",
    "def text_breakdown(sent):\n",
    "    words = re.compile(r\"\\w+\\b\")\n",
    "\n",
    "    count_dict = {}\n",
    "    for word in words.findall(sent):\n",
    "        if word.lower() in count_dict:\n",
    "            count_dict[word.lower()] += 1\n",
    "        elif word.lower() not in count_dict:\n",
    "            count_dict[word] = 1\n",
    "\n",
    "    return count_dict\n",
    "\n",
    "text_breakdown(a_text)\n",
    "\n",
    "\n"
   ]
  },
  {
   "attachments": {},
   "cell_type": "markdown",
   "metadata": {},
   "source": [
    "## Exercise #3\n",
    "\n",
    "Write a function implementing a Linear Search Algorithm. A linear search is a method for finding an element within a list. It sequentially checks each element of the list until a match is found or the whole list has been searched. If you do not find a match, return -1"
   ]
  },
  {
   "cell_type": "code",
   "execution_count": 32,
   "metadata": {},
   "outputs": [
    {
     "data": {
      "text/plain": [
       "-1"
      ]
     },
     "execution_count": 32,
     "metadata": {},
     "output_type": "execute_result"
    }
   ],
   "source": [
    "nums_list = [10,23,45,70,11,15]\n",
    "nums_list.sort()\n",
    "target = 70\n",
    "\n",
    "def binary_search(lst, target):\n",
    "    low = 0 #Begins the tracer at the start of the index\n",
    "    high = len(lst) - 1 #begins the tracer at the end of the index\n",
    "    while low <= high: #True while low is less than high\n",
    "        mid = (low + high) // 2 #Floor division to find a whole middle and set the third tracer\n",
    "        if target == lst[mid]: #True if target at the indicies matches the passed inital value of the int\n",
    "            return f\"The index for {target} is {mid}\" #Prints a line\n",
    "        elif target < lst[mid]: #True if the target is less than mid\n",
    "            high = mid - 1 #reduce mid by one and change the high tracer to mids position \n",
    "        else:               #True if the target is greater than mid also default value\n",
    "            low = mid + 1 # Sets the low tracer to mids position\n",
    "    return -1 #Returns only if the full list is run\n",
    "\n",
    "binary_search(nums_list, target)\n",
    "binary_search(nums_list, 1)\n"
   ]
  }
 ],
 "metadata": {
  "kernelspec": {
   "display_name": "Python 3",
   "language": "python",
   "name": "python3"
  },
  "language_info": {
   "codemirror_mode": {
    "name": "ipython",
    "version": 3
   },
   "file_extension": ".py",
   "mimetype": "text/x-python",
   "name": "python",
   "nbconvert_exporter": "python",
   "pygments_lexer": "ipython3",
   "version": "3.11.0"
  },
  "orig_nbformat": 4,
  "vscode": {
   "interpreter": {
    "hash": "453c594d4a21d8cbf8177457aa1886e73a2791e0ce4f31c5b22469aee12b21a2"
   }
  }
 },
 "nbformat": 4,
 "nbformat_minor": 2
}
